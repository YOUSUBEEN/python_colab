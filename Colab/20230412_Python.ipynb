{
  "nbformat": 4,
  "nbformat_minor": 0,
  "metadata": {
    "colab": {
      "provenance": [],
      "toc_visible": true,
      "authorship_tag": "ABX9TyPQ+S4VU8HLn97WEkGI8PNm",
      "include_colab_link": true
    },
    "kernelspec": {
      "name": "python3",
      "display_name": "Python 3"
    },
    "language_info": {
      "name": "python"
    }
  },
  "cells": [
    {
      "cell_type": "markdown",
      "metadata": {
        "id": "view-in-github",
        "colab_type": "text"
      },
      "source": [
        "<a href=\"https://colab.research.google.com/github/YOUSUBEEN/yousube_en/blob/main/Colab/20230412_Python.ipynb\" target=\"_parent\"><img src=\"https://colab.research.google.com/assets/colab-badge.svg\" alt=\"Open In Colab\"/></a>"
      ]
    },
    {
      "cell_type": "markdown",
      "source": [
        "# 데이터타입\n",
        "\n",
        "int\n",
        "str\n",
        "float\n",
        "bool"
      ],
      "metadata": {
        "id": "ysoGmIPdABpV"
      }
    },
    {
      "cell_type": "markdown",
      "source": [
        "## int형\n",
        "- 나이 입력하고 출력"
      ],
      "metadata": {
        "id": "zmzR3hiZAZRl"
      }
    },
    {
      "cell_type": "code",
      "execution_count": 3,
      "metadata": {
        "colab": {
          "base_uri": "https://localhost:8080/"
        },
        "id": "_kPxoQV2_0VF",
        "outputId": "ddf97e0a-a022-467d-9242-5b74b7dabb5a"
      },
      "outputs": [
        {
          "output_type": "stream",
          "name": "stdout",
          "text": [
            "30\n",
            "<class 'int'>\n"
          ]
        }
      ],
      "source": [
        "num_int = 30\n",
        "print(num_int)\n",
        "print(type(num_int))"
      ]
    },
    {
      "cell_type": "markdown",
      "source": [
        "## fliat형\n",
        "\n",
        "- 키입력"
      ],
      "metadata": {
        "id": "MHz00RDCA7zX"
      }
    },
    {
      "cell_type": "code",
      "source": [
        "my_height = 184.1\n",
        "print(my_height)\n",
        "print(type(my_height))"
      ],
      "metadata": {
        "colab": {
          "base_uri": "https://localhost:8080/"
        },
        "id": "xUzSvByFAp_O",
        "outputId": "7234a058-452d-487a-92c7-32dc5e9b74cf"
      },
      "execution_count": 6,
      "outputs": [
        {
          "output_type": "stream",
          "name": "stdout",
          "text": [
            "184.1\n",
            "<class 'float'>\n"
          ]
        }
      ]
    },
    {
      "cell_type": "markdown",
      "source": [
        "##str형\n",
        "- 임의의 닉네임 입력하고 출력"
      ],
      "metadata": {
        "id": "cInfClbzBOnF"
      }
    },
    {
      "cell_type": "code",
      "source": [
        "my_name = \"SU\"\n",
        "print(my_name)\n",
        "print(type(my_name))"
      ],
      "metadata": {
        "colab": {
          "base_uri": "https://localhost:8080/"
        },
        "id": "HnSDWTmBBVxQ",
        "outputId": "6f2a1d33-7f61-41e6-aba6-64a170ccdb15"
      },
      "execution_count": 5,
      "outputs": [
        {
          "output_type": "stream",
          "name": "stdout",
          "text": [
            "SU\n",
            "<class 'str'>\n"
          ]
        }
      ]
    },
    {
      "cell_type": "code",
      "source": [],
      "metadata": {
        "id": "DLI397hhBdBc"
      },
      "execution_count": null,
      "outputs": []
    },
    {
      "cell_type": "markdown",
      "source": [
        "## bool\n",
        "- 논리 / 참,거짓 \n"
      ],
      "metadata": {
        "id": "9EvfbvSSBp0Q"
      }
    },
    {
      "cell_type": "code",
      "source": [
        "x = True\n",
        "y = False\n",
        "z = x == y\n",
        "\n",
        "print(z)\n",
        "print(type(z))"
      ],
      "metadata": {
        "colab": {
          "base_uri": "https://localhost:8080/"
        },
        "id": "flnA7m8iCIqE",
        "outputId": "03eb1ea4-5cf1-4361-862b-c8d4a717638e"
      },
      "execution_count": 10,
      "outputs": [
        {
          "output_type": "stream",
          "name": "stdout",
          "text": [
            "False\n",
            "<class 'bool'>\n"
          ]
        }
      ]
    },
    {
      "cell_type": "code",
      "source": [],
      "metadata": {
        "id": "hwUHOv64CUUM"
      },
      "execution_count": null,
      "outputs": []
    },
    {
      "cell_type": "markdown",
      "source": [
        "# 사칙연산\n",
        "\n",
        "- / : 나누기는 type => float"
      ],
      "metadata": {
        "id": "LvijBv1jCe3Q"
      }
    },
    {
      "cell_type": "code",
      "source": [
        "x = 6\n",
        "y = 3\n",
        "\n",
        "print(x + y)\n",
        "print(x - y)\n",
        "print(x * y)\n",
        "print(x / y)\n",
        "print(x % y)  # 나머지 \n",
        "print(x // y) # 몫\n",
        "print(x ** y) #제곱"
      ],
      "metadata": {
        "colab": {
          "base_uri": "https://localhost:8080/"
        },
        "id": "1WRH0z4OCglE",
        "outputId": "4fb6cbf9-ef14-4caa-ab1c-92c79e6556a6"
      },
      "execution_count": 13,
      "outputs": [
        {
          "output_type": "stream",
          "name": "stdout",
          "text": [
            "9\n",
            "3\n",
            "18\n",
            "2.0\n",
            "0\n",
            "2\n",
            "216\n"
          ]
        }
      ]
    },
    {
      "cell_type": "code",
      "source": [
        "x = 10\n",
        "y = 11\n",
        "\n",
        "print(x == y)\n",
        "print(x != y)\n",
        "print(x > y)\n",
        "print(x < y)\n",
        "print(x <= y)\n",
        "print(x >= y)"
      ],
      "metadata": {
        "colab": {
          "base_uri": "https://localhost:8080/"
        },
        "id": "wDtQOit1CrJF",
        "outputId": "76af15c4-75bb-49e8-b25c-fbfa719013ee"
      },
      "execution_count": 15,
      "outputs": [
        {
          "output_type": "stream",
          "name": "stdout",
          "text": [
            "False\n",
            "True\n",
            "False\n",
            "True\n",
            "True\n",
            "False\n"
          ]
        }
      ]
    },
    {
      "cell_type": "markdown",
      "source": [
        "## type변경"
      ],
      "metadata": {
        "id": "ogOgA5gKEidd"
      }
    },
    {
      "cell_type": "code",
      "source": [
        "a = int(input(\"숫자를 입력하시오 : \"))\n",
        "print(a)\n",
        "print(type(a))"
      ],
      "metadata": {
        "colab": {
          "base_uri": "https://localhost:8080/"
        },
        "id": "fFBk9OY6EKkP",
        "outputId": "52440a66-1c87-4a73-abe2-1a60788aa97a"
      },
      "execution_count": 20,
      "outputs": [
        {
          "output_type": "stream",
          "name": "stdout",
          "text": [
            "숫자를 입력하시오 : 123\n",
            "123\n",
            "<class 'int'>\n"
          ]
        }
      ]
    },
    {
      "cell_type": "markdown",
      "source": [
        "# String\n",
        "\n",
        "- 연결해주기"
      ],
      "metadata": {
        "id": "l2KqGmkBEoX1"
      }
    },
    {
      "cell_type": "code",
      "source": [
        "a = \"소년은\"\n",
        "b = \"봄을\"\n",
        "c = \"좋아합니다.\"\n",
        "\n",
        "letter = a + \" \" + b + \" \" + c + \" 와웅\"\n",
        "print(letter)"
      ],
      "metadata": {
        "colab": {
          "base_uri": "https://localhost:8080/"
        },
        "id": "run6GkVPEtF-",
        "outputId": "cb7d3c3d-0c2f-444e-9b97-a354e5a67cac"
      },
      "execution_count": 23,
      "outputs": [
        {
          "output_type": "stream",
          "name": "stdout",
          "text": [
            "소년은 봄을 좋아합니다. 와웅\n"
          ]
        }
      ]
    },
    {
      "cell_type": "markdown",
      "source": [
        "- String 연산자 (*)"
      ],
      "metadata": {
        "id": "jpsDNm23FZMO"
      }
    },
    {
      "cell_type": "code",
      "source": [
        "x=\"봄\"\n",
        "ly= x*3 + \"모쓰\"\n",
        "print(ly)"
      ],
      "metadata": {
        "colab": {
          "base_uri": "https://localhost:8080/"
        },
        "id": "D3FPPWYIFCYm",
        "outputId": "83dd74a4-d839-4d2c-abd0-c9ac1b00f3bb"
      },
      "execution_count": 26,
      "outputs": [
        {
          "output_type": "stream",
          "name": "stdout",
          "text": [
            "봄봄봄모쓰\n"
          ]
        }
      ]
    },
    {
      "cell_type": "markdown",
      "source": [
        "# 인덱싱 & 슬라이싱\n"
      ],
      "metadata": {
        "id": "AoxiyMzeF3zO"
      }
    },
    {
      "cell_type": "code",
      "source": [
        "# 인덱싱\n",
        "\n",
        "x = \"Hello World!!\"\n",
        "\n",
        "#첫 번째 문제 : Hello의 알파벳 o 추출\n",
        "print(x[4])\n",
        "\n",
        "# 두번째 문제 :  World의 알파벳 l 추출\n",
        "print(x[-4])\n",
        "\n",
        "#####슬라이싱######\n",
        "\n",
        "# 세번째 문제 : World 글자만 출력\n",
        "print(x[6:11])"
      ],
      "metadata": {
        "colab": {
          "base_uri": "https://localhost:8080/"
        },
        "id": "F4IYfY1kFsOV",
        "outputId": "7cd294a2-d64b-43a9-cde2-1aa254426fe7"
      },
      "execution_count": 35,
      "outputs": [
        {
          "output_type": "stream",
          "name": "stdout",
          "text": [
            "o\n",
            "l\n",
            "World\n"
          ]
        }
      ]
    },
    {
      "cell_type": "code",
      "source": [
        "x = \"Hello World!!\"\n",
        "print(x[0:11:4])\n",
        "print(x[:])"
      ],
      "metadata": {
        "colab": {
          "base_uri": "https://localhost:8080/"
        },
        "id": "SIkNh75VIxSt",
        "outputId": "584c91ef-474d-46de-c02f-76993eaa7fae"
      },
      "execution_count": 40,
      "outputs": [
        {
          "output_type": "stream",
          "name": "stdout",
          "text": [
            "Hor\n",
            "Hello World!!\n"
          ]
        }
      ]
    },
    {
      "cell_type": "markdown",
      "source": [
        "- immutable 객체\n",
        "- mutable 객체"
      ],
      "metadata": {
        "id": "llv3geDCOzCx"
      }
    },
    {
      "cell_type": "code",
      "source": [
        "x = \"Hello World!!\"\n",
        "# 바꾸고 싶은 것, Aello World!!\n",
        "x[0] = 'A'\n",
        "\n",
        "# x = 'A' + x[1:]\n",
        "# print(x)\n",
        "\n",
        "# print(x.replace('H','A'))"
      ],
      "metadata": {
        "colab": {
          "base_uri": "https://localhost:8080/",
          "height": 248
        },
        "id": "zHcpLulQM2o1",
        "outputId": "47d917a2-90bd-4f67-d353-29c407f77a2e"
      },
      "execution_count": 50,
      "outputs": [
        {
          "output_type": "error",
          "ename": "TypeError",
          "evalue": "ignored",
          "traceback": [
            "\u001b[0;31m---------------------------------------------------------------------------\u001b[0m",
            "\u001b[0;31mTypeError\u001b[0m                                 Traceback (most recent call last)",
            "\u001b[0;32m<ipython-input-50-f0a501c0c441>\u001b[0m in \u001b[0;36m<cell line: 3>\u001b[0;34m()\u001b[0m\n\u001b[1;32m      1\u001b[0m \u001b[0mx\u001b[0m \u001b[0;34m=\u001b[0m \u001b[0;34m\"Hello World!!\"\u001b[0m\u001b[0;34m\u001b[0m\u001b[0;34m\u001b[0m\u001b[0m\n\u001b[1;32m      2\u001b[0m \u001b[0;31m# 바꾸고 싶은 것, Aello World!!\u001b[0m\u001b[0;34m\u001b[0m\u001b[0;34m\u001b[0m\u001b[0m\n\u001b[0;32m----> 3\u001b[0;31m \u001b[0mx\u001b[0m\u001b[0;34m[\u001b[0m\u001b[0;36m0\u001b[0m\u001b[0;34m]\u001b[0m \u001b[0;34m=\u001b[0m \u001b[0;34m'A'\u001b[0m\u001b[0;34m\u001b[0m\u001b[0;34m\u001b[0m\u001b[0m\n\u001b[0m\u001b[1;32m      4\u001b[0m \u001b[0;34m\u001b[0m\u001b[0m\n\u001b[1;32m      5\u001b[0m \u001b[0;31m# x = 'A' + x[1:]\u001b[0m\u001b[0;34m\u001b[0m\u001b[0;34m\u001b[0m\u001b[0m\n",
            "\u001b[0;31mTypeError\u001b[0m: 'str' object does not support item assignment"
          ]
        }
      ]
    },
    {
      "cell_type": "code",
      "source": [
        "x = 'A' + x[1:]\n",
        "print(x)\n",
        "\n",
        "print(x.replace('H','A'))"
      ],
      "metadata": {
        "colab": {
          "base_uri": "https://localhost:8080/"
        },
        "id": "WglC-0AnOIQt",
        "outputId": "07dd09b8-1fc6-452c-94f2-c9503f22c08c"
      },
      "execution_count": 51,
      "outputs": [
        {
          "output_type": "stream",
          "name": "stdout",
          "text": [
            "Aello World!!\n",
            "Aello World!!\n"
          ]
        }
      ]
    },
    {
      "cell_type": "markdown",
      "source": [
        "##  문자열 메서드\n",
        "- 점프 투 파이썬: https://wikidocs.net/13"
      ],
      "metadata": {
        "id": "XPMHzBxgPkwA"
      }
    },
    {
      "cell_type": "code",
      "source": [
        "sampleText = \"helld, kaggle\"\n",
        "upper_text = sampleText.upper()\n",
        "print(upper_text)"
      ],
      "metadata": {
        "colab": {
          "base_uri": "https://localhost:8080/"
        },
        "id": "_3dXKtz-Pi2O",
        "outputId": "a18a60d1-eca6-4e98-f054-a2580703b33b"
      },
      "execution_count": 52,
      "outputs": [
        {
          "output_type": "stream",
          "name": "stdout",
          "text": [
            "HELLD, KAGGLE\n"
          ]
        }
      ]
    },
    {
      "cell_type": "code",
      "source": [
        "## 숫자(int) ->> 클래스 안에는 upper라는 메서드가 없어서 에러가 뜸\n",
        "\n",
        "sampleNum = 123\n",
        "upper_text = sampleNum.upper()\n",
        "print(upper_text)"
      ],
      "metadata": {
        "colab": {
          "base_uri": "https://localhost:8080/",
          "height": 211
        },
        "id": "7Dzl0Z_fQIlG",
        "outputId": "4af5a90e-1e26-47b0-f378-6ef3d145353d"
      },
      "execution_count": 53,
      "outputs": [
        {
          "output_type": "error",
          "ename": "AttributeError",
          "evalue": "ignored",
          "traceback": [
            "\u001b[0;31m---------------------------------------------------------------------------\u001b[0m",
            "\u001b[0;31mAttributeError\u001b[0m                            Traceback (most recent call last)",
            "\u001b[0;32m<ipython-input-53-5e5d9b81bb48>\u001b[0m in \u001b[0;36m<cell line: 2>\u001b[0;34m()\u001b[0m\n\u001b[1;32m      1\u001b[0m \u001b[0msampleNum\u001b[0m \u001b[0;34m=\u001b[0m \u001b[0;36m123\u001b[0m\u001b[0;34m\u001b[0m\u001b[0;34m\u001b[0m\u001b[0m\n\u001b[0;32m----> 2\u001b[0;31m \u001b[0mupper_text\u001b[0m \u001b[0;34m=\u001b[0m \u001b[0msampleNum\u001b[0m\u001b[0;34m.\u001b[0m\u001b[0mupper\u001b[0m\u001b[0;34m(\u001b[0m\u001b[0;34m)\u001b[0m\u001b[0;34m\u001b[0m\u001b[0;34m\u001b[0m\u001b[0m\n\u001b[0m\u001b[1;32m      3\u001b[0m \u001b[0mprint\u001b[0m\u001b[0;34m(\u001b[0m\u001b[0mupper_text\u001b[0m\u001b[0;34m)\u001b[0m\u001b[0;34m\u001b[0m\u001b[0;34m\u001b[0m\u001b[0m\n",
            "\u001b[0;31mAttributeError\u001b[0m: 'int' object has no attribute 'upper'"
          ]
        }
      ]
    },
    {
      "cell_type": "markdown",
      "source": [
        "## 함수 확인 : https://docs.python.org/3/library/stdtypes.html#str"
      ],
      "metadata": {
        "id": "xBY3ae9oTCRZ"
      }
    },
    {
      "cell_type": "code",
      "source": [
        "sampleText = \"hello, kaggle\"\n",
        "upper_text = sampleText.replace(\"hello\", \"Hi\")\n",
        "print(upper_text)"
      ],
      "metadata": {
        "colab": {
          "base_uri": "https://localhost:8080/"
        },
        "id": "RfBCtmfhQP-l",
        "outputId": "0b1109b0-15e3-46fa-a750-7e107d0c5272"
      },
      "execution_count": 56,
      "outputs": [
        {
          "output_type": "stream",
          "name": "stdout",
          "text": [
            "Hi, kaggle\n"
          ]
        }
      ]
    },
    {
      "cell_type": "markdown",
      "source": [
        " - **str.replace(old, new[, count])**\n",
        " \n",
        "Return a copy of the string with all occurrences of substring old replaced by new. If the optional argument count is given, only the first count occurrences are replaced."
      ],
      "metadata": {
        "id": "xbj14ahSUSPb"
      }
    },
    {
      "cell_type": "code",
      "source": [
        "sampleText = \"hello, kaggle\"\n",
        "new_text = sampleText.split(sep = \",\")\n",
        "print(new_text)"
      ],
      "metadata": {
        "colab": {
          "base_uri": "https://localhost:8080/"
        },
        "id": "u666q454T4Wf",
        "outputId": "2498228f-0ebb-4aee-fca9-839bbdb52763"
      },
      "execution_count": 58,
      "outputs": [
        {
          "output_type": "stream",
          "name": "stdout",
          "text": [
            "['hello', ' kaggle']\n"
          ]
        }
      ]
    },
    {
      "cell_type": "markdown",
      "source": [
        "- bytes.split(sep=None, maxsplit=- 1)\n",
        "- bytearray.split(sep=None, maxsplit=- 1)\n",
        "\n",
        "Split the binary sequence into subsequences of the same type, using sep as the delimiter string. If maxsplit is given and non-negative, at most maxsplit splits are done (thus, the list will have at most maxsplit+1 elements). If maxsplit is not specified or is -1, then there is no limit on the number of splits (all possible splits are made).\n",
        "\n",
        "If sep is given, consecutive delimiters are not grouped together and are deemed to delimit empty subsequences (for example, b'1,,2'.split(b',') returns [b'1', b'', b'2']). The sep argument may consist of a multibyte sequence (for example, b'1<>2<>3'.split(b'<>') returns [b'1', b'2', b'3']). Splitting an empty sequence with a specified separator returns [b''] or [bytearray(b'')] depending on the type of object being split. The sep argument may be any bytes-like object."
      ],
      "metadata": {
        "id": "x-qMo4XaVAhy"
      }
    },
    {
      "cell_type": "markdown",
      "source": [
        "## 문자열 포매팅"
      ],
      "metadata": {
        "id": "fKXbyTxCWzyZ"
      }
    },
    {
      "cell_type": "code",
      "source": [
        "a = \"I eat %d apples.\" % 3\n",
        "print(a)"
      ],
      "metadata": {
        "colab": {
          "base_uri": "https://localhost:8080/"
        },
        "id": "waUZpyd6UcO-",
        "outputId": "c53c38aa-3829-4ec2-c80c-d21c4c03744b"
      },
      "execution_count": 59,
      "outputs": [
        {
          "output_type": "stream",
          "name": "stdout",
          "text": [
            "I eat 3 apples.\n"
          ]
        }
      ]
    },
    {
      "cell_type": "code",
      "source": [
        "## 변수로 대입 가능\n",
        "\n",
        "num = 3\n",
        "a = \"I eat %d apples.\" % num\n",
        "print(a)"
      ],
      "metadata": {
        "colab": {
          "base_uri": "https://localhost:8080/"
        },
        "id": "s5k1g1t0W6wA",
        "outputId": "99f34b2c-b1e1-4a9d-de16-27e81de5c896"
      },
      "execution_count": 61,
      "outputs": [
        {
          "output_type": "stream",
          "name": "stdout",
          "text": [
            "I eat 3 apples.\n"
          ]
        }
      ]
    },
    {
      "cell_type": "code",
      "source": [
        "b = \"I eat %s apples.\" % \"five\"\n",
        "print(b)"
      ],
      "metadata": {
        "colab": {
          "base_uri": "https://localhost:8080/"
        },
        "id": "GvzdswklWdKO",
        "outputId": "75949659-ba54-4cbc-a2d2-56d590563b10"
      },
      "execution_count": 62,
      "outputs": [
        {
          "output_type": "stream",
          "name": "stdout",
          "text": [
            "I eat five apples.\n"
          ]
        }
      ]
    },
    {
      "cell_type": "code",
      "source": [
        "num = 3\n",
        "day = \"'three'\"\n",
        "c = \"I eat %d apples. so I was sick for %s days.\" % (num, day)\n",
        "print(c) "
      ],
      "metadata": {
        "colab": {
          "base_uri": "https://localhost:8080/"
        },
        "id": "5N82vuRZWoGm",
        "outputId": "6a7268ff-11af-4626-f216-079c9f65ff3a"
      },
      "execution_count": 66,
      "outputs": [
        {
          "output_type": "stream",
          "name": "stdout",
          "text": [
            "I eat 3 apples. so I was sick for 'three' days.\n"
          ]
        }
      ]
    },
    {
      "cell_type": "markdown",
      "source": [
        "# List 리스트\n",
        "- 시퀀스데이터에요!\n",
        "- 반복문 쓸 수 있음"
      ],
      "metadata": {
        "id": "l_AQ-f0Rz5hq"
      }
    },
    {
      "cell_type": "code",
      "source": [
        "from collections.abc import Sequence\n",
        "\n",
        "my_num = 100\n",
        "my_list = [1,2,3]\n",
        "my_string = \"hello\"\n",
        "\n",
        "isSeq1 = isinstance(my_num, Sequence)\n",
        "print(isSeq1)\n",
        "\n",
        "isSeq2 = isinstance(my_list, Sequence)\n",
        "print(isSeq2)\n",
        "\n",
        "isSeq3 = isinstance(my_string, Sequence)\n",
        "print(isSeq3)"
      ],
      "metadata": {
        "colab": {
          "base_uri": "https://localhost:8080/"
        },
        "id": "8YolwFo3XjY_",
        "outputId": "91a319b1-fd29-47e3-cab6-5af5bd49c79c"
      },
      "execution_count": 5,
      "outputs": [
        {
          "output_type": "stream",
          "name": "stdout",
          "text": [
            "False\n",
            "True\n",
            "True\n"
          ]
        }
      ]
    },
    {
      "cell_type": "markdown",
      "source": [
        "# 인덱싱 & 슬라이싱 \n",
        "\n",
        "- 문자열 했던 것과 방식 동일"
      ],
      "metadata": {
        "id": "lmhZbJrO2UXz"
      }
    },
    {
      "cell_type": "code",
      "source": [
        "a = [\"가\", \"나\", \"다\"]\n",
        "print(a[0])\n",
        "print(a[1])\n",
        "print(a[2])\n",
        "print(a[-1])"
      ],
      "metadata": {
        "colab": {
          "base_uri": "https://localhost:8080/"
        },
        "id": "ReHcq63d1xFr",
        "outputId": "7bd7f07d-a7e1-4545-fdf0-ffaa57f33763"
      },
      "execution_count": 6,
      "outputs": [
        {
          "output_type": "stream",
          "name": "stdout",
          "text": [
            "가\n",
            "나\n",
            "다\n",
            "다\n"
          ]
        }
      ]
    },
    {
      "cell_type": "code",
      "source": [
        "a = [1, 2, [\"Apple\", \"사과\", \"Banana\",\"키위\"], 4, 5, 6]\n",
        "print(a)\n",
        "\n",
        "#### 문제 : Banana글자에서 알파벳 a (글자의 마지막) 추출\n",
        "print(a[2][2][-1])\n",
        "\n",
        "#### 문제 : 사과, Banana, 키위를 슬라이싱 하셔서 추출\n",
        "print(a[2][1:])\n",
        "\n",
        "print(a[2][1:][1][-1])"
      ],
      "metadata": {
        "colab": {
          "base_uri": "https://localhost:8080/"
        },
        "id": "3LaSuApR2upj",
        "outputId": "0dcf3c4b-2285-4d2f-d732-d4a102331f1a"
      },
      "execution_count": 15,
      "outputs": [
        {
          "output_type": "stream",
          "name": "stdout",
          "text": [
            "[1, 2, ['Apple', '사과', 'Banana', '키위'], 4, 5, 6]\n",
            "a\n",
            "['사과', 'Banana', '키위']\n",
            "a\n"
          ]
        }
      ]
    },
    {
      "cell_type": "markdown",
      "source": [
        "# 리스트 메서드 종류\n",
        "- https://docs.python.org/3/library/stdtypes.html#sequence-types-list-tuple-range\n",
        "\n"
      ],
      "metadata": {
        "id": "UkPXmhfz5EZE"
      }
    },
    {
      "cell_type": "markdown",
      "source": [
        "## append()"
      ],
      "metadata": {
        "id": "GJ5dIaRY6pmu"
      }
    },
    {
      "cell_type": "code",
      "source": [
        "x = ['가', '나']\n",
        "x.append('다')\n",
        "print(x)"
      ],
      "metadata": {
        "colab": {
          "base_uri": "https://localhost:8080/"
        },
        "id": "4w_no3uW27w5",
        "outputId": "bb0a8ca9-942a-4e7f-9e91-33973a58786a"
      },
      "execution_count": 16,
      "outputs": [
        {
          "output_type": "stream",
          "name": "stdout",
          "text": [
            "['가', '나', '다']\n"
          ]
        }
      ]
    },
    {
      "cell_type": "code",
      "source": [
        "x = ['가', '나']\n",
        "texts = ['다','라','마']\n",
        "x.append(texts)\n",
        "print(x)"
      ],
      "metadata": {
        "colab": {
          "base_uri": "https://localhost:8080/"
        },
        "id": "Km19we4B3XKI",
        "outputId": "f5016b21-76a3-4dd6-ec50-865511689073"
      },
      "execution_count": 17,
      "outputs": [
        {
          "output_type": "stream",
          "name": "stdout",
          "text": [
            "['가', '나', ['다', '라', '마']]\n"
          ]
        }
      ]
    },
    {
      "cell_type": "markdown",
      "source": [
        "## extend()"
      ],
      "metadata": {
        "id": "tt_L6VsC7wSs"
      }
    },
    {
      "cell_type": "code",
      "source": [
        "y = ['가', '나']\n",
        "texts = ['다','라','마']\n",
        "y.extend(texts)\n",
        "print(y)"
      ],
      "metadata": {
        "colab": {
          "base_uri": "https://localhost:8080/"
        },
        "id": "9Mr9tFNz7OWq",
        "outputId": "44594bc3-161e-4069-ab51-059f15f23127"
      },
      "execution_count": 21,
      "outputs": [
        {
          "output_type": "stream",
          "name": "stdout",
          "text": [
            "['가', '나', '다', '라', '마']\n"
          ]
        }
      ]
    },
    {
      "cell_type": "markdown",
      "source": [
        "## insert()\n",
        "- 인덱스 번호를 지정한 후, 새로운 값 추가"
      ],
      "metadata": {
        "id": "un2s2WQB8C9r"
      }
    },
    {
      "cell_type": "code",
      "source": [
        "x = [\"가\",\"나\",\"다\"]\n",
        "x.insert(2, \"라\")\n",
        "print(x)"
      ],
      "metadata": {
        "colab": {
          "base_uri": "https://localhost:8080/"
        },
        "id": "zQ_6Ljoi77PA",
        "outputId": "dd8a12f4-2da3-4906-f25b-179e7187c9e4"
      },
      "execution_count": 24,
      "outputs": [
        {
          "output_type": "stream",
          "name": "stdout",
          "text": [
            "['가', '나', '라', '다']\n"
          ]
        }
      ]
    },
    {
      "cell_type": "markdown",
      "source": [
        "## 리스트 값 변경"
      ],
      "metadata": {
        "id": "Bkr3M9KE8g80"
      }
    },
    {
      "cell_type": "code",
      "source": [
        "x = [\"가\",\"나\",\"C\",\"라\"]\n",
        "x[2] = \"다\"\n",
        "print(x)"
      ],
      "metadata": {
        "colab": {
          "base_uri": "https://localhost:8080/"
        },
        "id": "1y4Qmivk8fRM",
        "outputId": "d8fabda4-f3e8-43b7-83cc-01ec495e4e86"
      },
      "execution_count": 26,
      "outputs": [
        {
          "output_type": "stream",
          "name": "stdout",
          "text": [
            "['가', '나', '다', '라']\n"
          ]
        }
      ]
    },
    {
      "cell_type": "code",
      "source": [],
      "metadata": {
        "id": "aL4mrq-o8q1p"
      },
      "execution_count": null,
      "outputs": []
    },
    {
      "cell_type": "markdown",
      "source": [
        "## 리스트 값 삭제"
      ],
      "metadata": {
        "id": "_f30dqDm81Z8"
      }
    },
    {
      "cell_type": "code",
      "source": [
        "dates = [412, 510, 531, 1010]\n",
        "\n",
        "# 412제거\n",
        "dates.remove(412)\n",
        "print(dates)\n",
        "\n",
        "#del사용\n",
        "del dates[0]\n",
        "print(dates)"
      ],
      "metadata": {
        "colab": {
          "base_uri": "https://localhost:8080/"
        },
        "id": "w6WTGtLt83k8",
        "outputId": "91ed17bd-087b-4cbb-d779-a7dce26f436b"
      },
      "execution_count": 30,
      "outputs": [
        {
          "output_type": "stream",
          "name": "stdout",
          "text": [
            "[510, 531, 1010]\n",
            "[531, 1010]\n"
          ]
        }
      ]
    },
    {
      "cell_type": "markdown",
      "source": [
        "# 튜플\n",
        "- 리스트랑 비슷하지만 차이점 있음"
      ],
      "metadata": {
        "id": "QKiT3fCEBjRz"
      }
    },
    {
      "cell_type": "code",
      "source": [
        "my_tuple = (\"HI\", 1, 2, 3)\n",
        "print(my_tuple)\n",
        "print(type(my_tuple))"
      ],
      "metadata": {
        "colab": {
          "base_uri": "https://localhost:8080/"
        },
        "id": "ZX3JA8S78-kJ",
        "outputId": "a831a166-b4ce-491a-fbbd-fe938176e1d3"
      },
      "execution_count": 33,
      "outputs": [
        {
          "output_type": "stream",
          "name": "stdout",
          "text": [
            "('HI', 1, 2, 3)\n",
            "<class 'tuple'>\n"
          ]
        }
      ]
    },
    {
      "cell_type": "code",
      "source": [
        "my_nested_tuple = (\"HI\",[1,2,3], (3.11, 3.23, 21.1))\n",
        "print(my_nested_tuple)\n",
        "print(type(my_nested_tuple))"
      ],
      "metadata": {
        "colab": {
          "base_uri": "https://localhost:8080/"
        },
        "id": "1AvvxzRtBz4Z",
        "outputId": "e7b590e7-9aba-4fb6-9dc4-269004f76c88"
      },
      "execution_count": 34,
      "outputs": [
        {
          "output_type": "stream",
          "name": "stdout",
          "text": [
            "('HI', [1, 2, 3], (3.11, 3.23, 21.1))\n",
            "<class 'tuple'>\n"
          ]
        }
      ]
    },
    {
      "cell_type": "markdown",
      "source": [
        "## 리스트와 튜플의 공통점\n",
        "- 인덱싱& 슬라이싱은 동일"
      ],
      "metadata": {
        "id": "RG14N3zbCVYp"
      }
    },
    {
      "cell_type": "code",
      "source": [
        "a = [1, 2, (\"Apple\", \"사과\", \"Banana\",\"키위\"), 4, 5, 6]\n",
        "print(a)\n",
        "print(type(a))"
      ],
      "metadata": {
        "colab": {
          "base_uri": "https://localhost:8080/"
        },
        "id": "v4PVSoUsCgNt",
        "outputId": "20d30890-79d4-4900-c228-0b12403081e4"
      },
      "execution_count": 36,
      "outputs": [
        {
          "output_type": "stream",
          "name": "stdout",
          "text": [
            "[1, 2, ('Apple', '사과', 'Banana', '키위'), 4, 5, 6]\n",
            "<class 'list'>\n"
          ]
        }
      ]
    },
    {
      "cell_type": "code",
      "source": [
        "print(a[0:3][2][2][-1])\n"
      ],
      "metadata": {
        "colab": {
          "base_uri": "https://localhost:8080/"
        },
        "id": "x62DFPhiCieR",
        "outputId": "86451ac1-9a5c-4a7d-fda0-919b6d4d6d0e"
      },
      "execution_count": 39,
      "outputs": [
        {
          "output_type": "stream",
          "name": "stdout",
          "text": [
            "a\n"
          ]
        }
      ]
    },
    {
      "cell_type": "markdown",
      "source": [
        "# 리스트 값 *수정*"
      ],
      "metadata": {
        "id": "gGhAwgHHC2xJ"
      }
    },
    {
      "cell_type": "code",
      "source": [
        "x = [\"가\",\"나\",\"C\",\"라\"]\n",
        "x[2] = \"다\"\n",
        "print(x)\n",
        "\n",
        "y = (\"가\",\"나\",\"C\",\"라\")\n",
        "y[2] = \"다\"\n",
        "print(y)"
      ],
      "metadata": {
        "colab": {
          "base_uri": "https://localhost:8080/",
          "height": 248
        },
        "id": "9_c3jsxBCn7h",
        "outputId": "c3d3dfd0-5a5a-492e-e088-9e981a37298c"
      },
      "execution_count": 41,
      "outputs": [
        {
          "output_type": "stream",
          "name": "stdout",
          "text": [
            "['가', '나', '다', '라']\n"
          ]
        },
        {
          "output_type": "error",
          "ename": "TypeError",
          "evalue": "ignored",
          "traceback": [
            "\u001b[0;31m---------------------------------------------------------------------------\u001b[0m",
            "\u001b[0;31mTypeError\u001b[0m                                 Traceback (most recent call last)",
            "\u001b[0;32m<ipython-input-41-ea9536c769cc>\u001b[0m in \u001b[0;36m<cell line: 6>\u001b[0;34m()\u001b[0m\n\u001b[1;32m      4\u001b[0m \u001b[0;34m\u001b[0m\u001b[0m\n\u001b[1;32m      5\u001b[0m \u001b[0my\u001b[0m \u001b[0;34m=\u001b[0m \u001b[0;34m(\u001b[0m\u001b[0;34m\"가\"\u001b[0m\u001b[0;34m,\u001b[0m\u001b[0;34m\"나\"\u001b[0m\u001b[0;34m,\u001b[0m\u001b[0;34m\"C\"\u001b[0m\u001b[0;34m,\u001b[0m\u001b[0;34m\"라\"\u001b[0m\u001b[0;34m)\u001b[0m\u001b[0;34m\u001b[0m\u001b[0;34m\u001b[0m\u001b[0m\n\u001b[0;32m----> 6\u001b[0;31m \u001b[0my\u001b[0m\u001b[0;34m[\u001b[0m\u001b[0;36m2\u001b[0m\u001b[0;34m]\u001b[0m \u001b[0;34m=\u001b[0m \u001b[0;34m\"다\"\u001b[0m\u001b[0;34m\u001b[0m\u001b[0;34m\u001b[0m\u001b[0m\n\u001b[0m\u001b[1;32m      7\u001b[0m \u001b[0mprint\u001b[0m\u001b[0;34m(\u001b[0m\u001b[0my\u001b[0m\u001b[0;34m)\u001b[0m\u001b[0;34m\u001b[0m\u001b[0;34m\u001b[0m\u001b[0m\n",
            "\u001b[0;31mTypeError\u001b[0m: 'tuple' object does not support item assignment"
          ]
        }
      ]
    },
    {
      "cell_type": "code",
      "source": [
        "#tuple' object has no attribute 'remove :튜플에서는 remove 메서드존재X\n",
        "\n",
        "dates = (412, 510, 531, 1010)  \n",
        "\n",
        "# 412제거\n",
        "dates.remove(412)"
      ],
      "metadata": {
        "colab": {
          "base_uri": "https://localhost:8080/",
          "height": 211
        },
        "id": "M4m3RzF0DS7z",
        "outputId": "08f69e49-dab5-4311-951e-c9f5f236c06e"
      },
      "execution_count": 44,
      "outputs": [
        {
          "output_type": "error",
          "ename": "AttributeError",
          "evalue": "ignored",
          "traceback": [
            "\u001b[0;31m---------------------------------------------------------------------------\u001b[0m",
            "\u001b[0;31mAttributeError\u001b[0m                            Traceback (most recent call last)",
            "\u001b[0;32m<ipython-input-44-bec38fefea32>\u001b[0m in \u001b[0;36m<cell line: 4>\u001b[0;34m()\u001b[0m\n\u001b[1;32m      2\u001b[0m \u001b[0;34m\u001b[0m\u001b[0m\n\u001b[1;32m      3\u001b[0m \u001b[0;31m# 412제거\u001b[0m\u001b[0;34m\u001b[0m\u001b[0;34m\u001b[0m\u001b[0m\n\u001b[0;32m----> 4\u001b[0;31m \u001b[0mdates\u001b[0m\u001b[0;34m.\u001b[0m\u001b[0mremove\u001b[0m\u001b[0;34m(\u001b[0m\u001b[0;36m412\u001b[0m\u001b[0;34m)\u001b[0m\u001b[0;34m\u001b[0m\u001b[0;34m\u001b[0m\u001b[0m\n\u001b[0m",
            "\u001b[0;31mAttributeError\u001b[0m: 'tuple' object has no attribute 'remove'"
          ]
        }
      ]
    },
    {
      "cell_type": "code",
      "source": [
        "dates = (412, 510, 531, 1010) \n",
        "\n",
        "#del사용\n",
        "del dates[0]\n",
        "print(dates)"
      ],
      "metadata": {
        "colab": {
          "base_uri": "https://localhost:8080/",
          "height": 229
        },
        "id": "iqmw7hvQDjZ5",
        "outputId": "55db62f8-f288-4b70-bf4b-efaa6007cf5d"
      },
      "execution_count": 45,
      "outputs": [
        {
          "output_type": "error",
          "ename": "TypeError",
          "evalue": "ignored",
          "traceback": [
            "\u001b[0;31m---------------------------------------------------------------------------\u001b[0m",
            "\u001b[0;31mTypeError\u001b[0m                                 Traceback (most recent call last)",
            "\u001b[0;32m<ipython-input-45-e0a0bb108bc2>\u001b[0m in \u001b[0;36m<cell line: 4>\u001b[0;34m()\u001b[0m\n\u001b[1;32m      2\u001b[0m \u001b[0;34m\u001b[0m\u001b[0m\n\u001b[1;32m      3\u001b[0m \u001b[0;31m#del사용\u001b[0m\u001b[0;34m\u001b[0m\u001b[0;34m\u001b[0m\u001b[0m\n\u001b[0;32m----> 4\u001b[0;31m \u001b[0;32mdel\u001b[0m \u001b[0mdates\u001b[0m\u001b[0;34m[\u001b[0m\u001b[0;36m0\u001b[0m\u001b[0;34m]\u001b[0m\u001b[0;34m\u001b[0m\u001b[0;34m\u001b[0m\u001b[0m\n\u001b[0m\u001b[1;32m      5\u001b[0m \u001b[0mprint\u001b[0m\u001b[0;34m(\u001b[0m\u001b[0mdates\u001b[0m\u001b[0;34m)\u001b[0m\u001b[0;34m\u001b[0m\u001b[0;34m\u001b[0m\u001b[0m\n",
            "\u001b[0;31mTypeError\u001b[0m: 'tuple' object doesn't support item deletion"
          ]
        }
      ]
    },
    {
      "cell_type": "code",
      "source": [
        "my_tuple = (\"가\", \"가\", \"나\", \"나\", \"나\", \"다\",\"라\")\n",
        "print(my_tuple.count(\"나\")) \n",
        "print(my_tuple.index(\"나\"))  "
      ],
      "metadata": {
        "colab": {
          "base_uri": "https://localhost:8080/"
        },
        "id": "wbto-jYaDvoB",
        "outputId": "1b48cb42-c675-4358-a7ed-95b6fd3283da"
      },
      "execution_count": 47,
      "outputs": [
        {
          "output_type": "stream",
          "name": "stdout",
          "text": [
            "3\n",
            "2\n"
          ]
        }
      ]
    },
    {
      "cell_type": "markdown",
      "source": [
        "# 딕셔너리"
      ],
      "metadata": {
        "id": "WgxEBoP7FNEO"
      }
    },
    {
      "cell_type": "code",
      "source": [
        "my_dic ={\n",
        "    'name' : 'ysb',\n",
        "    'age'  : 20,\n",
        "    'job' : '데이터 분석가',\n",
        "    'shopping' : [1, 2, 3,],\n",
        "\n",
        "}\n",
        "\n",
        "my_dic\n",
        "\n",
        "#문제 : 태어난 도시를 추가, key-value값 알아서 작성\n",
        "my_dic['city']= '수원'\n",
        "print(my_dic)\n",
        "\n",
        "#값 수정\n",
        "my_dic['shopping'] = '가방'\n",
        "my_dic"
      ],
      "metadata": {
        "colab": {
          "base_uri": "https://localhost:8080/"
        },
        "id": "5FULAd-OEpfk",
        "outputId": "bc4f8f8e-6d18-4bd1-d9e5-fd0f59a535b8"
      },
      "execution_count": 55,
      "outputs": [
        {
          "output_type": "stream",
          "name": "stdout",
          "text": [
            "{'name': 'ysb', 'age': 20, 'job': '데이터 분석가', 'shopping': [1, 2, 3], 'city': '수원'}\n"
          ]
        },
        {
          "output_type": "execute_result",
          "data": {
            "text/plain": [
              "{'name': 'ysb', 'age': 20, 'job': '데이터 분석가', 'shopping': '가방', 'city': '수원'}"
            ]
          },
          "metadata": {},
          "execution_count": 55
        }
      ]
    },
    {
      "cell_type": "code",
      "source": [
        "## 가방제거\n",
        "\n",
        "del my_dic['shopping']\n",
        "print(my_dic)"
      ],
      "metadata": {
        "colab": {
          "base_uri": "https://localhost:8080/",
          "height": 229
        },
        "id": "g37Hh3MEFy6a",
        "outputId": "2925a508-5812-48e5-997d-411afe08f52b"
      },
      "execution_count": 66,
      "outputs": [
        {
          "output_type": "error",
          "ename": "KeyError",
          "evalue": "ignored",
          "traceback": [
            "\u001b[0;31m---------------------------------------------------------------------------\u001b[0m",
            "\u001b[0;31mKeyError\u001b[0m                                  Traceback (most recent call last)",
            "\u001b[0;32m<ipython-input-66-3dfb63d0e9ad>\u001b[0m in \u001b[0;36m<cell line: 3>\u001b[0;34m()\u001b[0m\n\u001b[1;32m      1\u001b[0m \u001b[0;31m## 가방제거\u001b[0m\u001b[0;34m\u001b[0m\u001b[0;34m\u001b[0m\u001b[0m\n\u001b[1;32m      2\u001b[0m \u001b[0;34m\u001b[0m\u001b[0m\n\u001b[0;32m----> 3\u001b[0;31m \u001b[0;32mdel\u001b[0m \u001b[0mmy_dic\u001b[0m\u001b[0;34m[\u001b[0m\u001b[0;34m'shopping'\u001b[0m\u001b[0;34m]\u001b[0m\u001b[0;34m\u001b[0m\u001b[0;34m\u001b[0m\u001b[0m\n\u001b[0m\u001b[1;32m      4\u001b[0m \u001b[0mprint\u001b[0m\u001b[0;34m(\u001b[0m\u001b[0mmy_dic\u001b[0m\u001b[0;34m)\u001b[0m\u001b[0;34m\u001b[0m\u001b[0;34m\u001b[0m\u001b[0m\n",
            "\u001b[0;31mKeyError\u001b[0m: 'shopping'"
          ]
        }
      ]
    },
    {
      "cell_type": "code",
      "source": [
        "my_dic.keys()"
      ],
      "metadata": {
        "colab": {
          "base_uri": "https://localhost:8080/"
        },
        "id": "_tOA-kuxHvsC",
        "outputId": "f84d1b2c-63b7-4aa9-bea3-fe9b9fa4a70d"
      },
      "execution_count": 61,
      "outputs": [
        {
          "output_type": "execute_result",
          "data": {
            "text/plain": [
              "dict_keys(['name', 'age', 'job', 'city'])"
            ]
          },
          "metadata": {},
          "execution_count": 61
        }
      ]
    },
    {
      "cell_type": "code",
      "source": [
        "my_dic.values()"
      ],
      "metadata": {
        "colab": {
          "base_uri": "https://localhost:8080/"
        },
        "id": "usSsaI6sIf9i",
        "outputId": "23f760c1-d0e3-4c83-f1c7-89ee955a9d4b"
      },
      "execution_count": 63,
      "outputs": [
        {
          "output_type": "execute_result",
          "data": {
            "text/plain": [
              "dict_values(['ysb', 20, '데이터 분석가', '수원'])"
            ]
          },
          "metadata": {},
          "execution_count": 63
        }
      ]
    },
    {
      "cell_type": "code",
      "source": [
        "my_dic.items()  #리스트,튜플"
      ],
      "metadata": {
        "colab": {
          "base_uri": "https://localhost:8080/"
        },
        "id": "HwiiNOU3IpXi",
        "outputId": "40b197e3-f162-4d12-8bf3-b9789bcdd4c0"
      },
      "execution_count": 64,
      "outputs": [
        {
          "output_type": "execute_result",
          "data": {
            "text/plain": [
              "dict_items([('name', 'ysb'), ('age', 20), ('job', '데이터 분석가'), ('city', '수원')])"
            ]
          },
          "metadata": {},
          "execution_count": 64
        }
      ]
    },
    {
      "cell_type": "code",
      "source": [
        "for i in my_dic:\n",
        "  #print(i)  #인덱스 번호로 할당되거나 그런게 아님/ key값!!\n",
        "   print(my_dic[i])"
      ],
      "metadata": {
        "colab": {
          "base_uri": "https://localhost:8080/"
        },
        "id": "lVsZNX_PJFbP",
        "outputId": "87c72f63-4ce9-455c-ad12-65594863a0d2"
      },
      "execution_count": 70,
      "outputs": [
        {
          "output_type": "stream",
          "name": "stdout",
          "text": [
            "ysb\n",
            "20\n",
            "데이터 분석가\n",
            "수원\n"
          ]
        }
      ]
    },
    {
      "cell_type": "markdown",
      "source": [
        "# 조건문\n",
        "- if-else, if문 작성 시, 조건 ==> True"
      ],
      "metadata": {
        "id": "kg2_0znqJkTf"
      }
    },
    {
      "cell_type": "code",
      "source": [
        "a = 30\n",
        "b = 31\n",
        "\n",
        "if a >= b:\n",
        "  print(\"a가 크다\")\n",
        "elif a == b:\n",
        "  print(\"a와 b가 같다\")\n",
        "else:\n",
        "  print(\"b가 b보다 작다\")"
      ],
      "metadata": {
        "colab": {
          "base_uri": "https://localhost:8080/"
        },
        "id": "GszIOUJXJQU0",
        "outputId": "f3544986-16a9-4166-a06b-637ce58a4ad7"
      },
      "execution_count": 71,
      "outputs": [
        {
          "output_type": "stream",
          "name": "stdout",
          "text": [
            "b가 b보다 작다\n"
          ]
        }
      ]
    },
    {
      "cell_type": "code",
      "source": [
        "# input() 임의의 숫자만 입력 1~100\n",
        "# 90점이상 --print(A)\n",
        "# 80점이상 --print(B)\n",
        "# 나머지 --print(C)\n",
        "\n",
        "num = int(input(\"숫자(1~100)만 입력하시오 : \"))\n",
        "\n",
        "if 1 <= num <= 100:\n",
        "  if num >= 90:\n",
        "    print(\"A\")\n",
        "  elif num >=80:\n",
        "    print(\"B\")\n",
        "  else:\n",
        "    print(\"C\") \n",
        "else:\n",
        "  print(\"값을 입력할 수 없습니다.\")    "
      ],
      "metadata": {
        "colab": {
          "base_uri": "https://localhost:8080/"
        },
        "id": "sK9klXiJKA2_",
        "outputId": "6ca25aee-610d-43e9-92b8-17eba69e9bb6"
      },
      "execution_count": 75,
      "outputs": [
        {
          "output_type": "stream",
          "name": "stdout",
          "text": [
            "숫자(1~100)만 입력하시오 : 101\n",
            "값을 입력할 수 없습니다.\n"
          ]
        }
      ]
    },
    {
      "cell_type": "code",
      "source": [
        "num = int(input(\"숫자(1~100)만 입력하시오 : \"))\n",
        "\n",
        "if num >= 1 and num <=100 :\n",
        "  if num >= 90:\n",
        "    print(\"A\")\n",
        "  elif num >=80:\n",
        "    print(\"B\")\n",
        "  else:\n",
        "    print(\"C\") \n",
        "else:\n",
        "  print(\"값을 입력할 수 없습니다.\")                "
      ],
      "metadata": {
        "colab": {
          "base_uri": "https://localhost:8080/"
        },
        "id": "3Xe81X3NLUXK",
        "outputId": "f886fd9c-5c2e-4c78-a9b9-06ac1b2c67e8"
      },
      "execution_count": 76,
      "outputs": [
        {
          "output_type": "stream",
          "name": "stdout",
          "text": [
            "숫자(1~100)만 입력하시오 : 101\n",
            "값을 입력할 수 없습니다.\n"
          ]
        }
      ]
    },
    {
      "cell_type": "code",
      "source": [],
      "metadata": {
        "id": "9FAxoCj1M07D"
      },
      "execution_count": null,
      "outputs": []
    }
  ]
}