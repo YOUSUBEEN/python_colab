{
  "nbformat": 4,
  "nbformat_minor": 0,
  "metadata": {
    "colab": {
      "provenance": [],
      "authorship_tag": "ABX9TyP/1Y1TjRy37hYNSWHOZIUg",
      "include_colab_link": true
    },
    "kernelspec": {
      "name": "python3",
      "display_name": "Python 3"
    },
    "language_info": {
      "name": "python"
    }
  },
  "cells": [
    {
      "cell_type": "markdown",
      "metadata": {
        "id": "view-in-github",
        "colab_type": "text"
      },
      "source": [
        "<a href=\"https://colab.research.google.com/github/YOUSUBEEN/yousube_en/blob/main/Daily%20study/20230412_List_comprehension.ipynb\" target=\"_parent\"><img src=\"https://colab.research.google.com/assets/colab-badge.svg\" alt=\"Open In Colab\"/></a>"
      ]
    },
    {
      "cell_type": "markdown",
      "source": [
        "#List comprehension\n",
        "\n",
        "- 리스트 컴프리헨션(list comprehension)\n",
        "- Python list : 리스트 안에 for(반복문) & if(조건문) 사용가능\n",
        "- 리스트 안에서 for 문과 if 문을 이용하여 편리하게 리스트를 작성하고 처리함\n",
        "- [식 for 변수 in 리스트]"
      ],
      "metadata": {
        "id": "j43EdS-MbvyZ"
      }
    },
    {
      "cell_type": "markdown",
      "source": [
        "##기본 구조"
      ],
      "metadata": {
        "id": "etE4mGoLdARd"
      }
    },
    {
      "cell_type": "code",
      "source": [
        "a = [i for i in range(10)] # 0~9까지 숫자를 리스트로 생성\n",
        "a"
      ],
      "metadata": {
        "colab": {
          "base_uri": "https://localhost:8080/"
        },
        "id": "QmypjvPabyBX",
        "outputId": "6f69640d-a080-4cee-c249-87761ca68f0c"
      },
      "execution_count": null,
      "outputs": [
        {
          "output_type": "execute_result",
          "data": {
            "text/plain": [
              "[0, 1, 2, 3, 4, 5, 6, 7, 8, 9]"
            ]
          },
          "metadata": {},
          "execution_count": 2
        }
      ]
    },
    {
      "cell_type": "markdown",
      "source": [
        "##if 조건문 사용"
      ],
      "metadata": {
        "id": "SJHvGrEZdFIs"
      }
    },
    {
      "cell_type": "code",
      "source": [
        "a = [i for i in range(10) if i % 2 == 0] # 0~9 숫자 중 짝수를 리스트로 생성\n",
        "a"
      ],
      "metadata": {
        "colab": {
          "base_uri": "https://localhost:8080/"
        },
        "id": "Ilhfo_4QcPHP",
        "outputId": "16312636-bb9f-4cd9-8225-cc15f06280c2"
      },
      "execution_count": null,
      "outputs": [
        {
          "output_type": "execute_result",
          "data": {
            "text/plain": [
              "[0, 2, 4, 6, 8]"
            ]
          },
          "metadata": {},
          "execution_count": 3
        }
      ]
    }
  ]
}